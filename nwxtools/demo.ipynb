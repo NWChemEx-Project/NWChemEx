{
 "cells": [
  {
   "cell_type": "code",
   "execution_count": 3,
   "id": "f3e08dc5",
   "metadata": {},
   "outputs": [
    {
     "name": "stdout",
     "output_type": "stream",
     "text": [
      "The autoreload extension is already loaded. To reload it, use:\n",
      "  %reload_ext autoreload\n",
      "CPU times: user 10.2 s, sys: 281 ms, total: 10.5 s\n",
      "Wall time: 11.1 s\n",
      "CPU times: user 3 µs, sys: 0 ns, total: 3 µs\n",
      "Wall time: 5.72 µs\n"
     ]
    }
   ],
   "source": [
    "%load_ext autoreload\n",
    "%autoreload 2\n",
    "%time import nwxtools as nwx\n",
    "%time import nwxschema as schema"
   ]
  },
  {
   "cell_type": "markdown",
   "id": "cde0391a",
   "metadata": {},
   "source": [
    "# Creating a molecule"
   ]
  },
  {
   "cell_type": "markdown",
   "id": "87b755d2",
   "metadata": {},
   "source": [
    "### 1. Using lists of symbols and coordinates:"
   ]
  },
  {
   "cell_type": "code",
   "execution_count": 4,
   "id": "c8b9fe31",
   "metadata": {},
   "outputs": [
    {
     "name": "stdout",
     "output_type": "stream",
     "text": [
      "<class cppyy.gbl.chemist.Molecule at 0xfb32310>\n"
     ]
    }
   ],
   "source": [
    "mol1 = nwx.get_molecule(['H', 'H'], [0., 0., 0.,\n",
    "                                     1., 0., 0.])\n",
    "print(type(mol1))"
   ]
  },
  {
   "cell_type": "markdown",
   "id": "7bc78fbe",
   "metadata": {},
   "source": [
    "### 2. Using xyz:"
   ]
  },
  {
   "cell_type": "code",
   "execution_count": 5,
   "id": "464876cc",
   "metadata": {},
   "outputs": [
    {
     "name": "stdout",
     "output_type": "stream",
     "text": [
      "True\n"
     ]
    }
   ],
   "source": [
    "xyz = '''2\n",
    "\n",
    "H 0. 0. 0.\n",
    "H 1. 0. 0.'''\n",
    "mol2 = nwx.get_molecule_from_xyz(xyz)\n",
    "print(mol1 == mol2)"
   ]
  },
  {
   "cell_type": "markdown",
   "id": "2373e213",
   "metadata": {},
   "source": [
    "### 3. Using nwxschema"
   ]
  },
  {
   "cell_type": "code",
   "execution_count": 6,
   "id": "a5fbec11",
   "metadata": {},
   "outputs": [
    {
     "name": "stdout",
     "output_type": "stream",
     "text": [
      "True\n"
     ]
    }
   ],
   "source": [
    "inp = schema.NWXInput()\n",
    "inp.molecule = schema.Molecule(['H', 'H'], [0., 0., 0.,\n",
    "                                            1., 0., 0.])\n",
    "inp.molecule.charge = 0\n",
    "inp.molecule.name = 'H2'\n",
    "inp.basis = 'sto-3g'\n",
    "inp.method = 'scf'\n",
    "mol3 = nwx.get_molecule_from_input(inp)\n",
    "print(mol1 == mol2)"
   ]
  },
  {
   "cell_type": "code",
   "execution_count": 7,
   "id": "123bdb59",
   "metadata": {},
   "outputs": [
    {
     "name": "stdout",
     "output_type": "stream",
     "text": [
      "NWXInput(molecule=Molecule(symbols=['H', 'H'], coordinates=[0.0, 0.0, 0.0, 1.0, 0.0, 0.0], charge=0, multiplicity=1, name='H2', natom=2, nelectron=0), method='scf', basis='sto-3g', schema_name='NWChemEx schema', schema_version='0.1', keywords=None)\n"
     ]
    }
   ],
   "source": [
    "print(inp)"
   ]
  },
  {
   "cell_type": "code",
   "execution_count": 8,
   "id": "a7318a4b",
   "metadata": {},
   "outputs": [
    {
     "name": "stdout",
     "output_type": "stream",
     "text": [
      "{\"molecule\": {\"symbols\": [\"H\", \"H\"], \"coordinates\": [0.0, 0.0, 0.0, 1.0, 0.0, 0.0], \"charge\": 0, \"multiplicity\": 1, \"name\": \"H2\", \"natom\": 2, \"nelectron\": 0}, \"method\": \"scf\", \"basis\": \"sto-3g\", \"schema_name\": \"NWChemEx schema\", \"schema_version\": \"0.1\", \"keywords\": null}\n"
     ]
    }
   ],
   "source": [
    "print(inp.asjson())"
   ]
  },
  {
   "cell_type": "markdown",
   "id": "b8717138",
   "metadata": {},
   "source": [
    "## Running an SCF calculation"
   ]
  },
  {
   "cell_type": "code",
   "execution_count": 9,
   "id": "dc0dca00",
   "metadata": {},
   "outputs": [],
   "source": [
    "nwx.initialize()"
   ]
  },
  {
   "cell_type": "code",
   "execution_count": 10,
   "id": "fa5d5672",
   "metadata": {},
   "outputs": [
    {
     "name": "stdout",
     "output_type": "stream",
     "text": [
      "Total energy for H2 scf/sto-3g: -1.0659994615565629 au\n"
     ]
    }
   ],
   "source": [
    "energy = nwx.get_total_energy_from_input(inp)\n",
    "print(\"Total energy for {name} {method}/{basis}: {energy} au\".format(name=inp.molecule.name, \n",
    "                                                       method= inp.method,\n",
    "                                                       basis = inp.basis,\n",
    "                                                                   energy=energy))"
   ]
  },
  {
   "cell_type": "markdown",
   "id": "8481e3db",
   "metadata": {},
   "source": [
    "## Geometry optimization"
   ]
  },
  {
   "cell_type": "code",
   "execution_count": 11,
   "id": "c627249c",
   "metadata": {},
   "outputs": [
    {
     "data": {
      "text/plain": [
       "      fun: -1.117505885153245\n",
       " hess_inv: array([[1.76931536]])\n",
       "      jac: array([2.17556953e-06])\n",
       "  message: 'Optimization terminated successfully.'\n",
       "     nfev: 10\n",
       "      nit: 4\n",
       "     njev: 5\n",
       "   status: 0\n",
       "  success: True\n",
       "        x: array([1.34592314])"
      ]
     },
     "execution_count": 11,
     "metadata": {},
     "output_type": "execute_result"
    }
   ],
   "source": [
    "from scipy.optimize import minimize\n",
    "minimize(nwx.to_optimize,[1.0], args=([3],inp))"
   ]
  },
  {
   "cell_type": "code",
   "execution_count": null,
   "id": "f4536ea9",
   "metadata": {},
   "outputs": [],
   "source": []
  }
 ],
 "metadata": {
  "kernelspec": {
   "display_name": "Python 3 (ipykernel)",
   "language": "python",
   "name": "python3"
  },
  "language_info": {
   "codemirror_mode": {
    "name": "ipython",
    "version": 3
   },
   "file_extension": ".py",
   "mimetype": "text/x-python",
   "name": "python",
   "nbconvert_exporter": "python",
   "pygments_lexer": "ipython3",
   "version": "3.8.10"
  }
 },
 "nbformat": 4,
 "nbformat_minor": 5
}
