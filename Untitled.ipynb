{
 "cells": [
  {
   "cell_type": "code",
   "execution_count": 1,
   "metadata": {},
   "outputs": [],
   "source": [
    "import sys\n",
    "sys.path.append('/home/ryan/CLionProjects/NWChemEx/cmake-build-debug')\n",
    "from PyNWChemEx import *"
   ]
  },
  {
   "cell_type": "code",
   "execution_count": 5,
   "metadata": {},
   "outputs": [],
   "source": [
    "mm = sde.ModuleManager()\n",
    "nwx.load_modules(mm)"
   ]
  },
  {
   "cell_type": "code",
   "execution_count": null,
   "metadata": {},
   "outputs": [],
   "source": [
    "H1  = libchemist.Atom(AtomName=\"H\", Coordinates=[0.0, 0.0, 0.0], AtomicNumber=1)\n",
    "H2  = libchemist.Atom(AtomName='H', Coordinates=[0.0, 0.0, 1.682], AtomicNumber=1)\n",
    "mol = libchemist.Molecule(H1, H2, Charge=0, Multiplicity=1)\n",
    "bs  = libchemist.apply_basis(\"cc-pvdz\", mol)\n",
    "aux = libchemist.apply_basis(\"cc-pvdz-f12_optri\", mol)\n",
    "sup = libchemist.AOBasisSet[\"double\"]()\n",
    "for x in bs:\n",
    "    sup.add_center(x)\n",
    "for x in aux:\n",
    "    sup.add_center(x)"
   ]
  },
  {
   "cell_type": "code",
   "execution_count": null,
   "metadata": {},
   "outputs": [],
   "source": [
    "pt = property_types.ao_integrals.STG4CIntegral[\"double\"]\n",
    "I = mm.run_as[pt](\"STG4\", bs, bs, sup, bs)"
   ]
  },
  {
   "cell_type": "code",
   "execution_count": null,
   "metadata": {},
   "outputs": [],
   "source": []
  }
 ],
 "metadata": {
  "kernelspec": {
   "display_name": "Python 3",
   "language": "python",
   "name": "python3"
  },
  "language_info": {
   "codemirror_mode": {
    "name": "ipython",
    "version": 3
   },
   "file_extension": ".py",
   "mimetype": "text/x-python",
   "name": "python",
   "nbconvert_exporter": "python",
   "pygments_lexer": "ipython3",
   "version": "3.8.5"
  }
 },
 "nbformat": 4,
 "nbformat_minor": 4
}
